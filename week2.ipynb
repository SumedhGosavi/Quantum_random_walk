{
  "nbformat": 4,
  "nbformat_minor": 0,
  "metadata": {
    "colab": {
      "provenance": []
    },
    "kernelspec": {
      "name": "python3",
      "display_name": "Python 3"
    },
    "language_info": {
      "name": "python"
    }
  },
  "cells": [
    {
      "cell_type": "markdown",
      "source": [
        "#Qubit\n",
        "A qubit (or quantum bit) is the quantum mechanical analogue of a classical bit. In classical computing the information is encoded in bits, where each bit can have the value zero or one. In quantum computing the information is encoded in qubits. A qubit is a two-level quantum system where the two basis qubit states are usually written as\n",
        "∣\n",
        "0\n",
        "⟩\n",
        "∣0⟩ and\n",
        "∣\n",
        "1\n",
        "⟩\n",
        "∣1⟩. A qubit can be in state\n",
        "∣\n",
        "0\n",
        "⟩\n",
        "∣0⟩,\n",
        "∣\n",
        "1\n",
        "⟩\n",
        "∣1⟩ or (unlike a classical bit) in a linear combination of both states. The name of this phenomenon is superposition.\n",
        "\n",
        "A general -pure- qubit state is expressed as:\n",
        "𝜓\n",
        "=\n",
        "𝛼\n",
        "∣\n",
        "0\n",
        "⟩\n",
        "+\n",
        "𝛽\n",
        "∣\n",
        "1\n",
        "⟩\n",
        "ψ=α∣0⟩+β∣1⟩\n"
      ],
      "metadata": {
        "id": "4UaTU8keU4go"
      }
    },
    {
      "cell_type": "markdown",
      "source": [
        "#Superposition\n",
        "One of the properties that sets a qubit apart from a classical bit is that it can be in superposition. Superposition is one of the fundamental principles of quantum mechanics. In classical physics, a wave describing a musical tone can be seen as several waves with different frequencies that are added together, superposed. Similarly, a quantum state in superposition can be seen as a linear combination of other distinct quantum states. This quantum state in superposition forms a new valid quantum state."
      ],
      "metadata": {
        "id": "WoJ9wwFKVoEL"
      }
    },
    {
      "cell_type": "markdown",
      "source": [
        "#qiskit.circuit.library\n",
        "\n",
        "The circuit library is a collection of well-studied and valuable circuits, directives, and gates. We call them valuable for different reasons, for instance they can serve as building blocks for algorithms or they are circuits that we think are hard to simulate classically.\n",
        "\n",
        "Each element can be plugged into a circuit using the QuantumCircuit.append() method and so the circuit library allows users to program at higher levels of abstraction. For example, to append a multi-controlled CNOT:"
      ],
      "metadata": {
        "id": "nKLRKm94bKC1"
      }
    },
    {
      "cell_type": "code",
      "source": [],
      "metadata": {
        "id": "-mtGme6XbMNh"
      },
      "execution_count": null,
      "outputs": []
    }
  ]
}